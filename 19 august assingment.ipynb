{
 "cells": [
  {
   "cell_type": "markdown",
   "id": "1401c690-b050-45fd-864a-9faccb50b79b",
   "metadata": {},
   "source": [
    "Q1) Write a Python program that takes a string as input and prints the length of the string."
   ]
  },
  {
   "cell_type": "code",
   "execution_count": 1,
   "id": "d2d7460e-e570-4d95-904d-8d9bb30fd4b7",
   "metadata": {},
   "outputs": [
    {
     "name": "stdout",
     "output_type": "stream",
     "text": [
      "After swapping:\n",
      "x = 10\n",
      "y = 9\n"
     ]
    }
   ],
   "source": [
    "# Initialize two variables\n",
    "x = 9\n",
    "y = 10\n",
    "\n",
    "# Swap the values without using a temporary variable\n",
    "x, y = y, x\n",
    "\n",
    "# Now, 'x' will contain the value of 'y', and 'y' will contain the value of 'x'\n",
    "print(\"After swapping:\")\n",
    "print(\"x =\", x)\n",
    "print(\"y =\", y)"
   ]
  },
  {
   "cell_type": "markdown",
   "id": "325d550e-9d2e-4adc-93a4-a9f2eacf724a",
   "metadata": {},
   "source": [
    "Q2) Create a program that calculates the area of a rectangle. Take the length and width as inputs from the user and store them in variables. Calculate and display the area."
   ]
  },
  {
   "cell_type": "code",
   "execution_count": 2,
   "id": "02856eb4-25ee-4925-a5bf-3a0616291ac3",
   "metadata": {},
   "outputs": [
    {
     "name": "stdin",
     "output_type": "stream",
     "text": [
      "Enter the length 4\n",
      "Enter the breadth 2\n"
     ]
    },
    {
     "name": "stdout",
     "output_type": "stream",
     "text": [
      "8.0\n"
     ]
    }
   ],
   "source": [
    "length=float(input('Enter the length'))\n",
    "breadth=float(input('Enter the breadth'))\n",
    "area=length*breadth\n",
    "print(area)\n",
    "\n",
    "#Explanation: We input the length and breadths and multiply them to find area. Then print area"
   ]
  },
  {
   "cell_type": "markdown",
   "id": "462a7f7e-162f-44c1-9ebb-e03493687aa6",
   "metadata": {},
   "source": [
    "Q3)Write a Python program that converts temperatures from Celsius to Fahrenheit. Take the temperature in Celsius as input, store it in a variable, convert it to Fahrenheit, and display the result."
   ]
  },
  {
   "cell_type": "code",
   "execution_count": 3,
   "id": "21bf694e-d910-44b3-b9e5-82f3e2a71567",
   "metadata": {},
   "outputs": [
    {
     "name": "stdin",
     "output_type": "stream",
     "text": [
      "Enter the temperature in celsius 37.5\n"
     ]
    },
    {
     "name": "stdout",
     "output_type": "stream",
     "text": [
      "125.10000000000001\n"
     ]
    }
   ],
   "source": [
    "#Taking temperature input in celsius\n",
    "celsius=float(input(\"Enter the temperature in celsius\"))\n",
    "\n",
    "#Applying conversion formula\n",
    "f=9/5*(celsius+32)\n",
    "\n",
    "print(f)  #printing in fahrenheit"
   ]
  },
  {
   "cell_type": "code",
   "execution_count": null,
   "id": "45186690-36c3-4106-915f-a597075a22d8",
   "metadata": {},
   "outputs": [],
   "source": []
  },
  {
   "cell_type": "markdown",
   "id": "9a2891bd-a5f1-4a2c-820f-4dde907b4f6e",
   "metadata": {},
   "source": [
    "Q1) Write a Python program that takes a string as input and prints the length of the string.\n",
    "\n",
    "\n"
   ]
  },
  {
   "cell_type": "code",
   "execution_count": 4,
   "id": "4cc92443-ee8d-4dc3-9213-74086ffa5f2c",
   "metadata": {},
   "outputs": [
    {
     "name": "stdin",
     "output_type": "stream",
     "text": [
      "Enter a string i love my country\n"
     ]
    },
    {
     "name": "stdout",
     "output_type": "stream",
     "text": [
      "The length of string is 17\n"
     ]
    }
   ],
   "source": [
    "str=input(\"Enter a string\")\n",
    "#inputing the string\n",
    "\n",
    "length=len(str)\n",
    "#using len function to determine length of string\n",
    "\n",
    "print(\"The length of string is\",length)\n",
    "#printing the length\n"
   ]
  },
  {
   "cell_type": "markdown",
   "id": "a330132e-bf48-4330-bb52-e37bbbd48883",
   "metadata": {},
   "source": [
    "Q2)Create a program that takes a sentence from the user and counts the number of vowels (a, e, i, o, u) in the string."
   ]
  },
  {
   "cell_type": "code",
   "execution_count": 8,
   "id": "fafef9e3-e464-4016-8680-f8fbd77cc3e4",
   "metadata": {},
   "outputs": [
    {
     "name": "stdin",
     "output_type": "stream",
     "text": [
      "Enter a sentence my name is payal\n"
     ]
    },
    {
     "name": "stdout",
     "output_type": "stream",
     "text": [
      "The number of vowels in sentence is 5\n"
     ]
    },
    {
     "data": {
      "text/plain": [
       "'Explanation:  First we input as sentence. Then we list out all the vowels in upper case and lower case. We declare the count as 0.\\n    We iterate through each of the characters in the string. If any of the characters in string are present in vowel list, \\n    then we increment the count by 1, else we exit the loop. Finally the total count of vowels is printed.'"
      ]
     },
     "execution_count": 8,
     "metadata": {},
     "output_type": "execute_result"
    }
   ],
   "source": [
    "tring=input(\"Enter a sentence\")\n",
    "vowels=['a','e','i','o','u','A','E','I','O','U']\n",
    "count=0\n",
    "for i in string:\n",
    "    if i in vowels:\n",
    "        count=count+1\n",
    "    \n",
    "print(\"The number of vowels in sentence is\", count)\n",
    "\n",
    "\n",
    "\"\"\"Explanation:  First we input as sentence. Then we list out all the vowels in upper case and lower case. We declare the count as 0.\n",
    "    We iterate through each of the characters in the string. If any of the characters in string are present in vowel list, \n",
    "    then we increment the count by 1, else we exit the loop. Finally the total count of vowels is printed.\"\"\""
   ]
  },
  {
   "cell_type": "markdown",
   "id": "70e63a76-b5b5-4014-a67a-538c4211eaeb",
   "metadata": {},
   "source": [
    "Q3) Given a string, reverse the order of characters using string slicing and print the reversed string."
   ]
  },
  {
   "cell_type": "code",
   "execution_count": 9,
   "id": "2fdf2ed0-c58e-4a2c-accf-94b3b68842f2",
   "metadata": {},
   "outputs": [
    {
     "name": "stdin",
     "output_type": "stream",
     "text": [
      "Enter a string pw skills\n"
     ]
    },
    {
     "name": "stdout",
     "output_type": "stream",
     "text": [
      "slliks wp\n"
     ]
    },
    {
     "data": {
      "text/plain": [
       "\"Explanation: The -1 at the end tells the order of reversal and number of elements to skip. \\nHere it's in reverse order and continuous characters.\""
      ]
     },
     "execution_count": 9,
     "metadata": {},
     "output_type": "execute_result"
    }
   ],
   "source": [
    "string=input(\"Enter a string\")\n",
    "reverse=string[::-1]\n",
    "print(reverse)\n",
    "\n",
    "\"\"\"Explanation: The -1 at the end tells the order of reversal and number of elements to skip. \n",
    "Here it's in reverse order and continuous characters.\"\"\""
   ]
  },
  {
   "cell_type": "markdown",
   "id": "678991d2-d481-4ed4-8ea2-c63d1190576c",
   "metadata": {},
   "source": [
    "Q4) Write a program that takes a string as input and checks if it is a palindrome (reads the same forwards and backwards)."
   ]
  },
  {
   "cell_type": "code",
   "execution_count": 10,
   "id": "9b3ba903-9858-4b57-929d-692aa8568a14",
   "metadata": {},
   "outputs": [
    {
     "name": "stdin",
     "output_type": "stream",
     "text": [
      "Enter a string i love data scince\n"
     ]
    },
    {
     "name": "stdout",
     "output_type": "stream",
     "text": [
      "Not a palindrome\n"
     ]
    },
    {
     "data": {
      "text/plain": [
       "\"Explanation: [::-1] reverses a string. Then we check revsersed string to original string. \\n   If they are same it's a palindrome, else it's not a palindrome.\""
      ]
     },
     "execution_count": 10,
     "metadata": {},
     "output_type": "execute_result"
    }
   ],
   "source": [
    "str=input(\"Enter a string\")\n",
    "rev=str[::-1]\n",
    "if str==rev:\n",
    "    print(\"It's a palindrome\")\n",
    "else:\n",
    "    print(\"Not a palindrome\")\n",
    "    \n",
    "\"\"\"Explanation: [::-1] reverses a string. Then we check revsersed string to original string. \n",
    "   If they are same it's a palindrome, else it's not a palindrome.\"\"\""
   ]
  },
  {
   "cell_type": "markdown",
   "id": "1a498072-5963-4fbf-bd3c-c43fbf7ddf31",
   "metadata": {},
   "source": [
    "Q5) Create a program that takes a string as input and removes all the spaces from it. Print the modified string without spaces."
   ]
  },
  {
   "cell_type": "code",
   "execution_count": 11,
   "id": "ef2745da-c586-4f96-a3f8-2547c7ba73b0",
   "metadata": {},
   "outputs": [
    {
     "name": "stdin",
     "output_type": "stream",
     "text": [
      "Enter a string i love pw skills\n"
     ]
    },
    {
     "name": "stdout",
     "output_type": "stream",
     "text": [
      "ilovepwskills\n"
     ]
    }
   ],
   "source": [
    "string=input(\"Enter a string\")\n",
    "string_new=string.replace(\" \",\"\")\n",
    "print(string_new)"
   ]
  },
  {
   "cell_type": "code",
   "execution_count": null,
   "id": "20066c2c-ebb7-4e0f-b454-65e9d0626b05",
   "metadata": {},
   "outputs": [],
   "source": []
  }
 ],
 "metadata": {
  "kernelspec": {
   "display_name": "Python 3 (ipykernel)",
   "language": "python",
   "name": "python3"
  },
  "language_info": {
   "codemirror_mode": {
    "name": "ipython",
    "version": 3
   },
   "file_extension": ".py",
   "mimetype": "text/x-python",
   "name": "python",
   "nbconvert_exporter": "python",
   "pygments_lexer": "ipython3",
   "version": "3.10.8"
  }
 },
 "nbformat": 4,
 "nbformat_minor": 5
}
